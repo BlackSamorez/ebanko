{
 "cells": [
  {
   "cell_type": "code",
   "execution_count": 3,
   "id": "514e2499",
   "metadata": {},
   "outputs": [],
   "source": [
    "import torch\n",
    "import numpy as np\n",
    "import pandas as pd\n",
    "from tqdm import tqdm"
   ]
  },
  {
   "cell_type": "code",
   "execution_count": 4,
   "id": "a1b9aeea",
   "metadata": {},
   "outputs": [],
   "source": [
    "import os \n",
    "os.environ[\"CUDA_VISIBLE_DEVICES\"] = \"1\""
   ]
  },
  {
   "cell_type": "markdown",
   "id": "8ede071c",
   "metadata": {},
   "source": [
    "## Детокс руками"
   ]
  },
  {
   "cell_type": "markdown",
   "id": "e60c58e9",
   "metadata": {},
   "source": [
    "### Load data"
   ]
  },
  {
   "cell_type": "code",
   "execution_count": 3,
   "id": "9fedd2de",
   "metadata": {},
   "outputs": [],
   "source": [
    "df1 = pd.read_csv(\"labeled.csv\")"
   ]
  },
  {
   "cell_type": "code",
   "execution_count": 4,
   "id": "547ed922",
   "metadata": {},
   "outputs": [],
   "source": [
    "list2 = []\n",
    "\n",
    "with open(\"dataset.txt\", \"r\") as file:\n",
    "    for row in file:\n",
    "        sep = row.find(' ')\n",
    "        list2.append([row[:sep], row[sep+1:-1]])\n",
    "df2 = pd.DataFrame(list2, columns = [\"label\", \"text\"])"
   ]
  },
  {
   "cell_type": "markdown",
   "id": "089e5b11",
   "metadata": {},
   "source": [
    "### Drop not toxic"
   ]
  },
  {
   "cell_type": "code",
   "execution_count": 5,
   "id": "9616312a",
   "metadata": {},
   "outputs": [],
   "source": [
    "df1 = df1[df1[\"toxic\"] == 1.0].drop(\"toxic\", axis=1)\n",
    "df1.columns = [\"toxic\"]"
   ]
  },
  {
   "cell_type": "code",
   "execution_count": 6,
   "id": "5115025e",
   "metadata": {},
   "outputs": [],
   "source": [
    "df2 = df2[df2[\"label\"] != \"__label__NORMAL\"].drop(\"label\", axis=1)\n",
    "df2.columns = [\"toxic\"]"
   ]
  },
  {
   "cell_type": "code",
   "execution_count": 7,
   "id": "e40b5726",
   "metadata": {},
   "outputs": [],
   "source": [
    "df = pd.concat([df1, df2], axis=0, ignore_index=True)"
   ]
  },
  {
   "cell_type": "markdown",
   "id": "784cb2a0",
   "metadata": {},
   "source": [
    "### Detoxify"
   ]
  },
  {
   "cell_type": "code",
   "execution_count": 9,
   "id": "11f3d992",
   "metadata": {},
   "outputs": [],
   "source": [
    "from transformers import T5ForConditionalGeneration, AutoTokenizer\n",
    "\n",
    "base_model_name = 'sberbank-ai/ruT5-base'\n",
    "model_name = 'SkolkovoInstitute/ruT5-base-detox'\n",
    "\n",
    "tokenizer = AutoTokenizer.from_pretrained(base_model_name)\n",
    "model = T5ForConditionalGeneration.from_pretrained(model_name).cuda()"
   ]
  },
  {
   "cell_type": "code",
   "execution_count": 19,
   "id": "af78d53e",
   "metadata": {},
   "outputs": [],
   "source": [
    "input_ids = tokenizer([\"Как дела, мудила?\", \"Что делаешь, мудила?\"], return_tensors=\"pt\").input_ids.cuda()"
   ]
  },
  {
   "cell_type": "code",
   "execution_count": 20,
   "id": "dc2d4325",
   "metadata": {},
   "outputs": [
    {
     "name": "stdout",
     "output_type": "stream",
     "text": [
      "Как дела?\n",
      "Что делаешь?\n"
     ]
    }
   ],
   "source": [
    "for i in range(input_ids.shape[0]):\n",
    "    print(tokenizer.decode(model.generate(input_ids)[i].cpu(), skip_special_tokens=True))"
   ]
  },
  {
   "cell_type": "code",
   "execution_count": 25,
   "id": "bd9d3969",
   "metadata": {},
   "outputs": [],
   "source": [
    "from torch.utils.data import Dataset, DataLoader\n",
    "\n",
    "class ToxicDataset(Dataset):\n",
    "    def __init__(self, df):\n",
    "        self.df = df\n",
    "        \n",
    "    def __len__(self):\n",
    "        return df.shape[0]\n",
    "    \n",
    "    def __getitem__(self, i):\n",
    "        return df.iloc[i][\"toxic\"]\n",
    "    \n",
    "dataset = ToxicDataset(df)\n",
    "dataloader = DataLoader(dataset, batch_size=128)"
   ]
  },
  {
   "cell_type": "code",
   "execution_count": 28,
   "id": "2a5161a3",
   "metadata": {},
   "outputs": [
    {
     "name": "stderr",
     "output_type": "stream",
     "text": [
      "100%|██████████| 387/387 [12:31<00:00,  1.94s/it]\n"
     ]
    }
   ],
   "source": [
    "detoxified = []\n",
    "\n",
    "for batch in tqdm(dataloader):\n",
    "    input_ids = tokenizer(batch, return_tensors=\"pt\", padding=True, truncation=True, max_length=512, pad_to_multiple_of=8).input_ids.cuda()\n",
    "    for output_id in model.generate(input_ids).cpu():\n",
    "        detoxified.append(tokenizer.decode(output_id, skip_special_tokens=True))"
   ]
  },
  {
   "cell_type": "code",
   "execution_count": 29,
   "id": "57171911",
   "metadata": {},
   "outputs": [],
   "source": [
    "df[\"detoxified\"] = detoxified"
   ]
  },
  {
   "cell_type": "code",
   "execution_count": 37,
   "id": "a27bbab7",
   "metadata": {},
   "outputs": [],
   "source": [
    "df.to_csv(\"detoxified.csv\")"
   ]
  },
  {
   "cell_type": "markdown",
   "id": "cadbed78",
   "metadata": {},
   "source": [
    "## Готовый датасет"
   ]
  },
  {
   "cell_type": "code",
   "execution_count": 6,
   "id": "f1c33f88",
   "metadata": {},
   "outputs": [],
   "source": [
    "df = pd.read_csv(\"train.tsv\", sep='\\t')"
   ]
  },
  {
   "cell_type": "code",
   "execution_count": 10,
   "id": "d1d90c8f",
   "metadata": {},
   "outputs": [],
   "source": [
    "df = df.drop([\"neutral_comment2\", \"neutral_comment3\"], axis=1)"
   ]
  },
  {
   "cell_type": "code",
   "execution_count": 13,
   "id": "3fedb3e3",
   "metadata": {},
   "outputs": [],
   "source": [
    "df.set_index(\"index\", inplace=True)"
   ]
  },
  {
   "cell_type": "code",
   "execution_count": 25,
   "id": "1d8ef11b",
   "metadata": {},
   "outputs": [],
   "source": [
    "df = df.rename(columns={\"toxic_comment\":\"toxic\", \"neutral_comment1\":\"detoxified\"})"
   ]
  },
  {
   "cell_type": "code",
   "execution_count": 27,
   "id": "ce715b02",
   "metadata": {},
   "outputs": [],
   "source": [
    "df.to_csv(\"assessed.csv\")"
   ]
  },
  {
   "cell_type": "code",
   "execution_count": null,
   "id": "5d1b48bc",
   "metadata": {},
   "outputs": [],
   "source": []
  }
 ],
 "metadata": {
  "kernelspec": {
   "display_name": "Python [conda env:.conda-megatron]",
   "language": "python",
   "name": "conda-env-.conda-megatron-py"
  },
  "language_info": {
   "codemirror_mode": {
    "name": "ipython",
    "version": 3
   },
   "file_extension": ".py",
   "mimetype": "text/x-python",
   "name": "python",
   "nbconvert_exporter": "python",
   "pygments_lexer": "ipython3",
   "version": "3.8.0"
  }
 },
 "nbformat": 4,
 "nbformat_minor": 5
}
