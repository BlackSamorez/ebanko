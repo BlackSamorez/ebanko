{
 "cells": [
  {
   "cell_type": "code",
   "execution_count": 1,
   "id": "142f48e0",
   "metadata": {},
   "outputs": [],
   "source": [
    "import os\n",
    "os.environ[\"CUDA_VISIBLE_DEVICES\"] = \"1\"\n",
    "os.environ[\"TOKENIZERS_PARALLELISM\"] = \"false\""
   ]
  },
  {
   "cell_type": "code",
   "execution_count": 2,
   "id": "ebf32039",
   "metadata": {},
   "outputs": [],
   "source": [
    "import torch\n",
    "import numpy as np\n",
    "import pandas as pd\n",
    "from transformers import AutoTokenizer, AutoModelForCausalLM\n",
    "\n",
    "from tqdm import tqdm\n",
    "tqdm.pandas()"
   ]
  },
  {
   "cell_type": "code",
   "execution_count": 3,
   "id": "e909b18f",
   "metadata": {},
   "outputs": [],
   "source": [
    "df = pd.read_json(\"data.jsonl\", lines=True)"
   ]
  },
  {
   "cell_type": "code",
   "execution_count": 4,
   "id": "a8c01194",
   "metadata": {},
   "outputs": [],
   "source": [
    "tokenizer = AutoTokenizer.from_pretrained(\"sberbank-ai/mGPT\")\n",
    "\n",
    "model = AutoModelForCausalLM.from_pretrained(\"sberbank-ai/mGPT\").cuda()"
   ]
  },
  {
   "cell_type": "code",
   "execution_count": 5,
   "id": "2ef51955",
   "metadata": {},
   "outputs": [],
   "source": [
    "from torch.utils.data import Dataset\n",
    "from sklearn.model_selection import train_test_split"
   ]
  },
  {
   "cell_type": "code",
   "execution_count": 6,
   "id": "c8dcf2b9",
   "metadata": {},
   "outputs": [],
   "source": [
    "class BugurtDataset(Dataset):\n",
    "    def __init__(self, df, tokenizer):\n",
    "        super().__init__()\n",
    "        self.tokens = df[\"lines\"].progress_apply(lambda x: tokenizer(\"<s>\".join(x), \n",
    "                                                            max_length=512,\n",
    "                                                            truncation=True)).tolist()\n",
    "        \n",
    "    def __len__(self):\n",
    "        return len(self.tokens)\n",
    "    \n",
    "    def __getitem__(self, i):\n",
    "        return self.tokens[i]\n",
    "    "
   ]
  },
  {
   "cell_type": "code",
   "execution_count": 7,
   "id": "6c398ac1",
   "metadata": {},
   "outputs": [
    {
     "name": "stderr",
     "output_type": "stream",
     "text": [
      "100%|██████████| 52304/52304 [00:14<00:00, 3512.91it/s]\n",
      "100%|██████████| 2753/2753 [00:00<00:00, 3545.26it/s]\n"
     ]
    }
   ],
   "source": [
    "train_df, eval_df = train_test_split(df, test_size=0.05)\n",
    "train_dataset = BugurtDataset(train_df, tokenizer)\n",
    "eval_dataset = BugurtDataset(eval_df, tokenizer)"
   ]
  },
  {
   "cell_type": "code",
   "execution_count": 8,
   "id": "2439ab37",
   "metadata": {},
   "outputs": [],
   "source": [
    "from transformers import DataCollatorForLanguageModeling"
   ]
  },
  {
   "cell_type": "code",
   "execution_count": 9,
   "id": "6fd7bcc3",
   "metadata": {},
   "outputs": [],
   "source": [
    "collator = DataCollatorForLanguageModeling(tokenizer, mlm=False, pad_to_multiple_of=8)\n",
    "tokenizer.add_special_tokens({'pad_token': '[PAD]'})\n",
    "tokenizer.pad_token = \"<pad>\"\n",
    "tokenizer.sep_token = \"<s>\""
   ]
  },
  {
   "cell_type": "code",
   "execution_count": 10,
   "id": "86d2da8a",
   "metadata": {},
   "outputs": [],
   "source": [
    "from transformers import Trainer, TrainingArguments"
   ]
  },
  {
   "cell_type": "code",
   "execution_count": 11,
   "id": "62ccb094",
   "metadata": {},
   "outputs": [
    {
     "name": "stderr",
     "output_type": "stream",
     "text": [
      "Using amp half precision backend\n"
     ]
    }
   ],
   "source": [
    "args = TrainingArguments(\n",
    "    warmup_ratio=0.1,\n",
    "    output_dir = \"training\",\n",
    "    evaluation_strategy = \"steps\",\n",
    "    per_device_train_batch_size = 4,\n",
    "    per_device_eval_batch_size = 8,\n",
    "    gradient_accumulation_steps = 16,\n",
    "    num_train_epochs = 2,\n",
    "    save_strategy = \"steps\",\n",
    "    save_steps = 500,\n",
    "    fp16 = True,\n",
    "    eval_steps = 250,\n",
    "    dataloader_num_workers = 4\n",
    ")\n",
    "\n",
    "trainer = Trainer(\n",
    "    model = model,\n",
    "    args = args,\n",
    "    data_collator=collator,\n",
    "    train_dataset = train_dataset,\n",
    "    eval_dataset = eval_dataset\n",
    ")"
   ]
  },
  {
   "cell_type": "code",
   "execution_count": null,
   "id": "f8f8d121",
   "metadata": {},
   "outputs": [
    {
     "name": "stderr",
     "output_type": "stream",
     "text": [
      "/home/jupyter-black_samorez/.conda/envs/megatron/lib/python3.8/site-packages/transformers/optimization.py:306: FutureWarning: This implementation of AdamW is deprecated and will be removed in a future version. Use the PyTorch implementation torch.optim.AdamW instead, or set `no_deprecation_warning=True` to disable this warning\n",
      "  warnings.warn(\n",
      "***** Running training *****\n",
      "  Num examples = 52304\n",
      "  Num Epochs = 2\n",
      "  Instantaneous batch size per device = 4\n",
      "  Total train batch size (w. parallel, distributed & accumulation) = 64\n",
      "  Gradient Accumulation steps = 16\n",
      "  Total optimization steps = 1634\n"
     ]
    },
    {
     "data": {
      "text/html": [
       "\n",
       "    <div>\n",
       "      \n",
       "      <progress value='451' max='1634' style='width:300px; height:20px; vertical-align: middle;'></progress>\n",
       "      [ 451/1634 52:30 < 2:18:21, 0.14 it/s, Epoch 0.55/2]\n",
       "    </div>\n",
       "    <table border=\"1\" class=\"dataframe\">\n",
       "  <thead>\n",
       " <tr style=\"text-align: left;\">\n",
       "      <th>Step</th>\n",
       "      <th>Training Loss</th>\n",
       "      <th>Validation Loss</th>\n",
       "    </tr>\n",
       "  </thead>\n",
       "  <tbody>\n",
       "    <tr>\n",
       "      <td>250</td>\n",
       "      <td>No log</td>\n",
       "      <td>1.477706</td>\n",
       "    </tr>\n",
       "  </tbody>\n",
       "</table><p>"
      ],
      "text/plain": [
       "<IPython.core.display.HTML object>"
      ]
     },
     "metadata": {},
     "output_type": "display_data"
    },
    {
     "name": "stderr",
     "output_type": "stream",
     "text": [
      "***** Running Evaluation *****\n",
      "  Num examples = 2753\n",
      "  Batch size = 8\n"
     ]
    }
   ],
   "source": [
    "trainer.train()"
   ]
  },
  {
   "cell_type": "code",
   "execution_count": null,
   "id": "5b71776b",
   "metadata": {},
   "outputs": [],
   "source": [
    "model.save_pretrained(\"release\")"
   ]
  },
  {
   "cell_type": "code",
   "execution_count": null,
   "id": "fa52efce",
   "metadata": {},
   "outputs": [],
   "source": [
    "test_input = \"СИДИШЬ НА РАБОТЕ<s>\"\n",
    "\n",
    "input_ids = tokenizer([test_input], return_tensors=\"pt\").input_ids\n",
    "\n",
    "tokenizer.decode(model.generate(input_ids.cuda(),\n",
    "                                max_length=len(tokenizer([test_input], return_tensors=\"pt\").input_ids[0]) + 32,\n",
    "                                bad_words_ids=[[tokenizer.pad_token_id]],\n",
    "                                force_words_ids=[[11649], [11649]],\n",
    "                                temperature=1.,\n",
    "                                repetition_penalty=10.,\n",
    "                                do_sample=True).cpu()[:, input_ids.shape[-1]:][0], skip_special_tokens=False).replace(\"<s>\", \"\\n@\\n\")"
   ]
  },
  {
   "cell_type": "code",
   "execution_count": null,
   "id": "a9d96393",
   "metadata": {},
   "outputs": [],
   "source": []
  }
 ],
 "metadata": {
  "kernelspec": {
   "display_name": "Python [conda env:.conda-megatron]",
   "language": "python",
   "name": "conda-env-.conda-megatron-py"
  },
  "language_info": {
   "codemirror_mode": {
    "name": "ipython",
    "version": 3
   },
   "file_extension": ".py",
   "mimetype": "text/x-python",
   "name": "python",
   "nbconvert_exporter": "python",
   "pygments_lexer": "ipython3",
   "version": "3.8.0"
  }
 },
 "nbformat": 4,
 "nbformat_minor": 5
}
