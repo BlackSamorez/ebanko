{
 "cells": [
  {
   "cell_type": "code",
   "execution_count": 1,
   "id": "142f48e0",
   "metadata": {},
   "outputs": [],
   "source": [
    "import os\n",
    "os.environ[\"CUDA_VISIBLE_DEVICES\"] = \"1\"\n",
    "os.environ[\"TOKENIZERS_PARALLELISM\"] = \"false\""
   ]
  },
  {
   "cell_type": "code",
   "execution_count": 2,
   "id": "ebf32039",
   "metadata": {},
   "outputs": [],
   "source": [
    "import torch\n",
    "import numpy as np\n",
    "import pandas as pd\n",
    "from transformers import AutoTokenizer, AutoModelForSeq2SeqLM"
   ]
  },
  {
   "cell_type": "code",
   "execution_count": 3,
   "id": "a8c01194",
   "metadata": {},
   "outputs": [],
   "source": [
    "tokenizer = AutoTokenizer.from_pretrained(\"sberbank-ai/ruT5-base\")\n",
    "\n",
    "model = AutoModelForSeq2SeqLM.from_pretrained(\"sberbank-ai/ruT5-base\")\n",
    "\n",
    "df = pd.read_csv(\"detoxified.csv\")"
   ]
  },
  {
   "cell_type": "code",
   "execution_count": 4,
   "id": "3f96b8f1",
   "metadata": {},
   "outputs": [],
   "source": [
    "from torch.utils.data import Dataset, DataLoader\n",
    "from sklearn.model_selection import train_test_split\n",
    "\n",
    "class ToxicDataset(Dataset):\n",
    "    def __init__(self, input_ids, attention_mask, labels, decoder_attention_mask):\n",
    "        self.input_ids = input_ids\n",
    "        self.attention_mask = attention_mask\n",
    "        self.labels = labels\n",
    "        self.decoder_attention_mask = decoder_attention_mask\n",
    "        \n",
    "    def __len__(self):\n",
    "        return int(self.input_ids.size(dim=0))\n",
    "    \n",
    "    def __getitem__(self, i):\n",
    "        return {\"input_ids\": self.input_ids[i], \"attention_mask\": self.attention_mask[i], \"labels\": self.labels[i], \"decoder_attention_mask\": self.decoder_attention_mask[i]}\n",
    "    \n",
    "train_df, eval_df = train_test_split(df, test_size=0.2)"
   ]
  },
  {
   "cell_type": "code",
   "execution_count": 5,
   "id": "e845af45",
   "metadata": {},
   "outputs": [],
   "source": [
    "prefix = tokenizer(train_df[\"detoxified\"].values.tolist(), return_tensors=\"pt\", padding=True, truncation=True, max_length=512, pad_to_multiple_of=8)\n",
    "train_input_ids, train_attention_mask = prefix[\"input_ids\"], prefix[\"attention_mask\"]\n",
    "suffix = tokenizer(train_df[\"toxic\"].values.tolist(), return_tensors=\"pt\", padding=True, truncation=True, max_length=512)\n",
    "train_labels, train_decoder_attention_mask = suffix[\"input_ids\"], suffix[\"attention_mask\"]\n",
    "\n",
    "prefix = tokenizer(eval_df[\"detoxified\"].values.tolist(), return_tensors=\"pt\", padding=True, truncation=True, max_length=512, pad_to_multiple_of=8)\n",
    "eval_input_ids, eval_attention_mask = prefix[\"input_ids\"], prefix[\"attention_mask\"]\n",
    "suffix = tokenizer(eval_df[\"toxic\"].values.tolist(), return_tensors=\"pt\", padding=True, truncation=True, max_length=512)\n",
    "eval_labels, eval_decoder_attention_mask = suffix[\"input_ids\"], suffix[\"attention_mask\"]"
   ]
  },
  {
   "cell_type": "code",
   "execution_count": 6,
   "id": "22bbc112",
   "metadata": {},
   "outputs": [],
   "source": [
    "train_dataset = ToxicDataset(train_input_ids, train_attention_mask, train_labels, train_decoder_attention_mask)\n",
    "eval_dataset = ToxicDataset(eval_input_ids, eval_attention_mask, eval_labels, eval_decoder_attention_mask)"
   ]
  },
  {
   "cell_type": "code",
   "execution_count": 7,
   "id": "86d2da8a",
   "metadata": {},
   "outputs": [],
   "source": [
    "from transformers import Seq2SeqTrainer, Seq2SeqTrainingArguments"
   ]
  },
  {
   "cell_type": "code",
   "execution_count": 8,
   "id": "62ccb094",
   "metadata": {},
   "outputs": [
    {
     "name": "stderr",
     "output_type": "stream",
     "text": [
      "Using amp half precision backend\n"
     ]
    }
   ],
   "source": [
    "args = Seq2SeqTrainingArguments(\n",
    "    output_dir = \"detoxified_model\",\n",
    "    evaluation_strategy = \"steps\",\n",
    "    per_device_train_batch_size = 8,\n",
    "    per_device_eval_batch_size = 16,\n",
    "    gradient_accumulation_steps = 8,\n",
    "    num_train_epochs = 3,\n",
    "    save_strategy = \"steps\",\n",
    "    save_steps = 500,\n",
    "    fp16 = True,\n",
    "    eval_steps = 250,\n",
    "    dataloader_num_workers = 4,\n",
    "    group_by_length = True,\n",
    "    generation_max_length=256\n",
    ")\n",
    "\n",
    "trainer = Seq2SeqTrainer(\n",
    "    model = model,\n",
    "    args = args,\n",
    "    train_dataset = train_dataset,\n",
    "    eval_dataset = eval_dataset,\n",
    "    tokenizer = tokenizer\n",
    ")"
   ]
  },
  {
   "cell_type": "code",
   "execution_count": 9,
   "id": "f8f8d121",
   "metadata": {},
   "outputs": [
    {
     "name": "stderr",
     "output_type": "stream",
     "text": [
      "/home/jupyter-black_samorez/.conda/envs/megatron/lib/python3.8/site-packages/transformers/optimization.py:306: FutureWarning: This implementation of AdamW is deprecated and will be removed in a future version. Use the PyTorch implementation torch.optim.AdamW instead, or set `no_deprecation_warning=True` to disable this warning\n",
      "  warnings.warn(\n",
      "***** Running training *****\n",
      "  Num examples = 39544\n",
      "  Num Epochs = 3\n",
      "  Instantaneous batch size per device = 8\n",
      "  Total train batch size (w. parallel, distributed & accumulation) = 64\n",
      "  Gradient Accumulation steps = 8\n",
      "  Total optimization steps = 1851\n"
     ]
    },
    {
     "data": {
      "text/html": [
       "\n",
       "    <div>\n",
       "      \n",
       "      <progress value='1851' max='1851' style='width:300px; height:20px; vertical-align: middle;'></progress>\n",
       "      [1851/1851 1:22:03, Epoch 2/3]\n",
       "    </div>\n",
       "    <table border=\"1\" class=\"dataframe\">\n",
       "  <thead>\n",
       " <tr style=\"text-align: left;\">\n",
       "      <th>Step</th>\n",
       "      <th>Training Loss</th>\n",
       "      <th>Validation Loss</th>\n",
       "    </tr>\n",
       "  </thead>\n",
       "  <tbody>\n",
       "    <tr>\n",
       "      <td>250</td>\n",
       "      <td>No log</td>\n",
       "      <td>0.150420</td>\n",
       "    </tr>\n",
       "    <tr>\n",
       "      <td>500</td>\n",
       "      <td>0.421900</td>\n",
       "      <td>0.141312</td>\n",
       "    </tr>\n",
       "    <tr>\n",
       "      <td>750</td>\n",
       "      <td>0.421900</td>\n",
       "      <td>0.138583</td>\n",
       "    </tr>\n",
       "    <tr>\n",
       "      <td>1000</td>\n",
       "      <td>0.160100</td>\n",
       "      <td>0.136297</td>\n",
       "    </tr>\n",
       "    <tr>\n",
       "      <td>1250</td>\n",
       "      <td>0.160100</td>\n",
       "      <td>0.135061</td>\n",
       "    </tr>\n",
       "    <tr>\n",
       "      <td>1500</td>\n",
       "      <td>0.153000</td>\n",
       "      <td>0.134021</td>\n",
       "    </tr>\n",
       "    <tr>\n",
       "      <td>1750</td>\n",
       "      <td>0.153000</td>\n",
       "      <td>0.133495</td>\n",
       "    </tr>\n",
       "  </tbody>\n",
       "</table><p>"
      ],
      "text/plain": [
       "<IPython.core.display.HTML object>"
      ]
     },
     "metadata": {},
     "output_type": "display_data"
    },
    {
     "name": "stderr",
     "output_type": "stream",
     "text": [
      "***** Running Evaluation *****\n",
      "  Num examples = 9887\n",
      "  Batch size = 16\n",
      "***** Running Evaluation *****\n",
      "  Num examples = 9887\n",
      "  Batch size = 16\n",
      "Saving model checkpoint to detoxified_model/checkpoint-500\n",
      "Configuration saved in detoxified_model/checkpoint-500/config.json\n",
      "Model weights saved in detoxified_model/checkpoint-500/pytorch_model.bin\n",
      "tokenizer config file saved in detoxified_model/checkpoint-500/tokenizer_config.json\n",
      "Special tokens file saved in detoxified_model/checkpoint-500/special_tokens_map.json\n",
      "Copy vocab file to detoxified_model/checkpoint-500/spiece.model\n",
      "***** Running Evaluation *****\n",
      "  Num examples = 9887\n",
      "  Batch size = 16\n",
      "***** Running Evaluation *****\n",
      "  Num examples = 9887\n",
      "  Batch size = 16\n",
      "Saving model checkpoint to detoxified_model/checkpoint-1000\n",
      "Configuration saved in detoxified_model/checkpoint-1000/config.json\n",
      "Model weights saved in detoxified_model/checkpoint-1000/pytorch_model.bin\n",
      "tokenizer config file saved in detoxified_model/checkpoint-1000/tokenizer_config.json\n",
      "Special tokens file saved in detoxified_model/checkpoint-1000/special_tokens_map.json\n",
      "Copy vocab file to detoxified_model/checkpoint-1000/spiece.model\n",
      "***** Running Evaluation *****\n",
      "  Num examples = 9887\n",
      "  Batch size = 16\n",
      "***** Running Evaluation *****\n",
      "  Num examples = 9887\n",
      "  Batch size = 16\n",
      "Saving model checkpoint to detoxified_model/checkpoint-1500\n",
      "Configuration saved in detoxified_model/checkpoint-1500/config.json\n",
      "Model weights saved in detoxified_model/checkpoint-1500/pytorch_model.bin\n",
      "tokenizer config file saved in detoxified_model/checkpoint-1500/tokenizer_config.json\n",
      "Special tokens file saved in detoxified_model/checkpoint-1500/special_tokens_map.json\n",
      "Copy vocab file to detoxified_model/checkpoint-1500/spiece.model\n",
      "***** Running Evaluation *****\n",
      "  Num examples = 9887\n",
      "  Batch size = 16\n",
      "\n",
      "\n",
      "Training completed. Do not forget to share your model on huggingface.co/models =)\n",
      "\n",
      "\n"
     ]
    },
    {
     "data": {
      "text/plain": [
       "TrainOutput(global_step=1851, training_loss=0.22739396592464273, metrics={'train_runtime': 4927.1276, 'train_samples_per_second': 24.077, 'train_steps_per_second': 0.376, 'total_flos': 3384740195205120.0, 'train_loss': 0.22739396592464273, 'epoch': 3.0})"
      ]
     },
     "execution_count": 9,
     "metadata": {},
     "output_type": "execute_result"
    }
   ],
   "source": [
    "trainer.train()"
   ]
  },
  {
   "cell_type": "code",
   "execution_count": 10,
   "id": "f0e3c7c3",
   "metadata": {},
   "outputs": [
    {
     "data": {
      "text/plain": [
       "'если кто не знает -- ray marching это техника рендеринга сцен, то это'"
      ]
     },
     "execution_count": 10,
     "metadata": {},
     "output_type": "execute_result"
    }
   ],
   "source": [
    "tokenizer.decode(model.generate(tokenizer([\"Если кто не знает -- ray marching это техника рендеринга сцен, в которой лучи итеративно \\\"прощупывают\\\" сцену с помощью лишь функции расстояния до ближайшего объекта. Если алгоритм рассматривает луч в какой-то точке и знает расстояние до сцены, то это значит, что можно пройти это расстояние в направлении луча и ничего не задеть. Алгоритм проходит ровно это расстояние, и приступает к следующей итерации.\"], return_tensors=\"pt\").input_ids.cuda())[0].cpu(), skip_special_tokens=True)"
   ]
  },
  {
   "cell_type": "code",
   "execution_count": 11,
   "id": "5b71776b",
   "metadata": {},
   "outputs": [
    {
     "name": "stderr",
     "output_type": "stream",
     "text": [
      "Configuration saved in detoxified_release/config.json\n",
      "Model weights saved in detoxified_release/pytorch_model.bin\n"
     ]
    }
   ],
   "source": [
    "model.save_pretrained(\"detoxified_release\")"
   ]
  },
  {
   "cell_type": "code",
   "execution_count": 91,
   "id": "fa52efce",
   "metadata": {},
   "outputs": [
    {
     "data": {
      "text/plain": [
       "'на его место встал логичный eliboba Score   '"
      ]
     },
     "execution_count": 91,
     "metadata": {},
     "output_type": "execute_result"
    }
   ],
   "source": [
    "test_input = \"на его место встал логичный Zeliboba Score\"\n",
    "\n",
    "tokenizer.decode(model.generate(tokenizer([test_input], return_tensors=\"pt\").input_ids.cuda(),\n",
    "                                do_sample=True,\n",
    "                                top_k=10,\n",
    "                                temperature=1.5)[0].cpu(), skip_special_tokens=True)"
   ]
  },
  {
   "cell_type": "code",
   "execution_count": 6,
   "id": "bde11bd8",
   "metadata": {},
   "outputs": [],
   "source": [
    "tokenizer = AutoTokenizer.from_pretrained(\"sberbank-ai/ruT5-base\")\n",
    "\n",
    "model = AutoModelForSeq2SeqLM.from_pretrained(\"detoxified_release\").cuda()\n",
    "\n",
    "df = pd.read_csv(\"detoxified.csv\")"
   ]
  },
  {
   "cell_type": "code",
   "execution_count": null,
   "id": "bd7ec35e",
   "metadata": {},
   "outputs": [],
   "source": []
  }
 ],
 "metadata": {
  "kernelspec": {
   "display_name": "Python [conda env:.conda-megatron]",
   "language": "python",
   "name": "conda-env-.conda-megatron-py"
  },
  "language_info": {
   "codemirror_mode": {
    "name": "ipython",
    "version": 3
   },
   "file_extension": ".py",
   "mimetype": "text/x-python",
   "name": "python",
   "nbconvert_exporter": "python",
   "pygments_lexer": "ipython3",
   "version": "3.8.0"
  }
 },
 "nbformat": 4,
 "nbformat_minor": 5
}
