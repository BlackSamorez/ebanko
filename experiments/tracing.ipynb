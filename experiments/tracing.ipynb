{
 "cells": [
  {
   "cell_type": "code",
   "execution_count": 6,
   "id": "f1248b80",
   "metadata": {},
   "outputs": [],
   "source": [
    "import torch\n",
    "import torch.nn as nn\n",
    "\n",
    "from transformers import AutoModelForSeq2SeqLM"
   ]
  },
  {
   "cell_type": "code",
   "execution_count": 11,
   "id": "0f1b4967",
   "metadata": {},
   "outputs": [],
   "source": [
    "model = AutoModelForSeq2SeqLM.from_pretrained(\"detoxified_release\")"
   ]
  },
  {
   "cell_type": "code",
   "execution_count": 12,
   "id": "350fb13c",
   "metadata": {},
   "outputs": [],
   "source": [
    "class Ebanko(nn.Module):\n",
    "    def __init__(self, model):\n",
    "        super().__init__()\n",
    "        self.model = model\n",
    "        \n",
    "    def forward(self, ids):\n",
    "        return model.generate(ids,\n",
    "                              do_sample=True,\n",
    "                              top_k=10,\n",
    "                              temperature=1.5)\n",
    "        "
   ]
  },
  {
   "cell_type": "code",
   "execution_count": 13,
   "id": "717db59b",
   "metadata": {},
   "outputs": [],
   "source": [
    "ebanko = Ebanko(model)"
   ]
  },
  {
   "cell_type": "code",
   "execution_count": 16,
   "id": "b5882a80",
   "metadata": {},
   "outputs": [
    {
     "name": "stderr",
     "output_type": "stream",
     "text": [
      "/home/jupyter-black_samorez/.conda/envs/megatron/lib/python3.8/site-packages/torch/jit/_trace.py:983: TracerWarning: Output nr 1. of the traced function does not match the corresponding output of the Python function. Detailed error:\n",
      "Tensor-likes are not close!\n",
      "\n",
      "Mismatched elements: 18 / 20 (90.0%)\n",
      "Greatest absolute difference: 14953.0 at index (0, 3) (up to 0.0 allowed)\n",
      "Greatest relative difference: 168.575 at index (0, 13) (up to 1e-05 allowed)\n",
      "\n",
      "  _check_trace(\n"
     ]
    }
   ],
   "source": [
    "traced = torch.jit.trace(ebanko, torch.randint(2, 1000, (1, 256)))"
   ]
  },
  {
   "cell_type": "code",
   "execution_count": 17,
   "id": "384ce189",
   "metadata": {},
   "outputs": [],
   "source": [
    "traced = torch.jit.optimize_for_inference(traced)"
   ]
  },
  {
   "cell_type": "code",
   "execution_count": null,
   "id": "7cbb2404",
   "metadata": {},
   "outputs": [],
   "source": []
  }
 ],
 "metadata": {
  "kernelspec": {
   "display_name": "Python [conda env:.conda-megatron]",
   "language": "python",
   "name": "conda-env-.conda-megatron-py"
  },
  "language_info": {
   "codemirror_mode": {
    "name": "ipython",
    "version": 3
   },
   "file_extension": ".py",
   "mimetype": "text/x-python",
   "name": "python",
   "nbconvert_exporter": "python",
   "pygments_lexer": "ipython3",
   "version": "3.8.0"
  }
 },
 "nbformat": 4,
 "nbformat_minor": 5
}
