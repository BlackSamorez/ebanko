{
 "cells": [
  {
   "cell_type": "code",
   "execution_count": 393,
   "id": "3626e6c2",
   "metadata": {},
   "outputs": [],
   "source": [
    "import vk_api\n",
    "\n",
    "from tqdm import tqdm\n",
    "import regex\n",
    "import pandas as pd\n"
   ]
  },
  {
   "cell_type": "code",
   "execution_count": 376,
   "id": "01c4060c",
   "metadata": {},
   "outputs": [],
   "source": [
    "BUGURT_OWNER_ID = -57536014\n",
    "\n",
    "ALLOWED_SYMBOLS_REGEX = \"\"\"[\\w:\"\\./, !?\\-\\(\\)%–—♂'`\\*«»(#БУГУРТ)(#достаточно)(#Антибугурт)\\[\\]\\+]\"\"\"\n",
    "SEPARATOR_REGEX = \"\\n( *@ *\\n)+\"\n",
    "BUGURT_PATTERN = regex.compile(\"(({}+)({})?)+\".format(ALLOWED_SYMBOLS_REGEX, SEPARATOR_REGEX))"
   ]
  },
  {
   "cell_type": "code",
   "execution_count": 398,
   "id": "c4fea629",
   "metadata": {},
   "outputs": [],
   "source": [
    "def get_iter():\n",
    "    \"\"\" Пример получения всех постов со стены \"\"\"\n",
    "\n",
    "    login, password = '', ''\n",
    "    vk_session = vk_api.VkApi(login, password)\n",
    "\n",
    "    try:\n",
    "        vk_session.auth(token_only=True)\n",
    "    except vk_api.AuthError as error_msg:\n",
    "        print(error_msg)\n",
    "        return\n",
    "\n",
    "    tools = vk_api.VkTools(vk_session)\n",
    "\n",
    "    \"\"\" VkTools.get_all позволяет получить все объекты со всех страниц.\n",
    "        Соответственно get_all используется только если метод принимает\n",
    "        параметры: count и offset.\n",
    "\n",
    "        Например может использоваться для получения всех постов стены,\n",
    "        всех диалогов, всех сообщений, etc.\n",
    "\n",
    "        При использовании get_all сокращается количество запросов к API\n",
    "        за счет метода execute в 25 раз.\n",
    "\n",
    "        Например за раз со стены можно получить 100 * 25 = 2500, где\n",
    "        100 - максимальное количество постов, которое можно получить за один\n",
    "        запрос (обычно написано на странице с описанием метода)\n",
    "    \"\"\"\n",
    "\n",
    "    return tools.get_all_slow_iter('wall.get', 100, {'owner_id': BUGURT_OWNER_ID})"
   ]
  },
  {
   "cell_type": "code",
   "execution_count": 399,
   "id": "e8049be7",
   "metadata": {},
   "outputs": [],
   "source": [
    "good = 0\n",
    "bad = 0\n",
    "\n",
    "iterator = get_iter()"
   ]
  },
  {
   "cell_type": "code",
   "execution_count": 400,
   "id": "9e815143",
   "metadata": {},
   "outputs": [
    {
     "name": "stderr",
     "output_type": "stream",
     "text": [
      "90594it [11:04, 136.38it/s]\n"
     ]
    }
   ],
   "source": [
    "posts = []\n",
    "\n",
    "for post in tqdm(iterator):\n",
    "    text = post['text']\n",
    "    if regex.fullmatch(BUGURT_PATTERN, text):\n",
    "        good += 1\n",
    "        text = regex.sub(SEPARATOR_REGEX, \"[SEP]\", text)\n",
    "        posts.append(text)\n",
    "    else:\n",
    "        bad += 1"
   ]
  },
  {
   "cell_type": "code",
   "execution_count": null,
   "id": "c27e4625",
   "metadata": {},
   "outputs": [],
   "source": [
    "print(\"Good ratio:\", good / (good + bad))\n",
    "print(\"Total good:\", good)"
   ]
  },
  {
   "cell_type": "code",
   "execution_count": 402,
   "id": "13d27a19",
   "metadata": {},
   "outputs": [],
   "source": [
    "df = pd.DataFrame(posts, columns=[\"text\"])\n",
    "df[\"lines\"] = df[\"text\"].apply(lambda x: x.split(\"[SEP]\"))"
   ]
  },
  {
   "cell_type": "code",
   "execution_count": null,
   "id": "379d9744",
   "metadata": {},
   "outputs": [],
   "source": [
    "df = df.drop(\"text\", axis=1)"
   ]
  },
  {
   "cell_type": "code",
   "execution_count": 412,
   "id": "a9efb944",
   "metadata": {},
   "outputs": [],
   "source": [
    "df.to_json(\"data.json\", lines=True, orient=\"records\")"
   ]
  },
  {
   "cell_type": "code",
   "execution_count": null,
   "id": "b66e823b",
   "metadata": {},
   "outputs": [],
   "source": []
  }
 ],
 "metadata": {
  "kernelspec": {
   "display_name": "Python [conda env:.conda-megatron]",
   "language": "python",
   "name": "conda-env-.conda-megatron-py"
  },
  "language_info": {
   "codemirror_mode": {
    "name": "ipython",
    "version": 3
   },
   "file_extension": ".py",
   "mimetype": "text/x-python",
   "name": "python",
   "nbconvert_exporter": "python",
   "pygments_lexer": "ipython3",
   "version": "3.8.0"
  }
 },
 "nbformat": 4,
 "nbformat_minor": 5
}
